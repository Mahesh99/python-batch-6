{
 "cells": [
  {
   "cell_type": "code",
   "execution_count": 1,
   "metadata": {},
   "outputs": [],
   "source": [
    "# Exercise 1\n",
    "# write \"Hello world!\" into the file test.txt\n",
    "# and close the file"
   ]
  },
  {
   "cell_type": "code",
   "execution_count": 2,
   "metadata": {},
   "outputs": [],
   "source": [
    "# Exercise 2\n",
    "# read the text written in the first exercise into a variable called content\n",
    "# print the variable\n"
   ]
  },
  {
   "cell_type": "code",
   "execution_count": 38,
   "metadata": {},
   "outputs": [],
   "source": [
    "# Exercise 3\n",
    "f = open(\"thetiger.txt\",\"w\")\n",
    "str = \"Tiger, tiger, burning bright\"+\\\n",
    "    \"In the forests of the night,\"+\\\n",
    "    \"What immortal hand or eye\" +\\\n",
    "    \"Dare frame thy fearful symmetry?\"\n",
    "f.write(str)\n",
    "f.close()\n",
    "\n",
    "# open the file thetiger.txt and print the number of words present in the 3rd line of the file\n",
    "\n"
   ]
  },
  {
   "cell_type": "code",
   "execution_count": 39,
   "metadata": {},
   "outputs": [],
   "source": [
    "# Exercise 4\n",
    "# to the file thetiger.txt add the below lines(use appropriate mode)\n",
    "lines = [\"In what distant deeps or skies\"\n",
    "    \"Burnt the fire of thine eyes?\"\n",
    "    \"On what wings dare he aspire?\"\n",
    "    \"What the hand dare seize the fire?\"]\n"
   ]
  },
  {
   "cell_type": "code",
   "execution_count": 2,
   "metadata": {},
   "outputs": [],
   "source": [
    "# Exercise 5\n",
    "# TODO 1: in the emp_db.py create a method called save_emps() which takes a string and writes to emps.txt \n",
    "# TODO 2: create the string in format \"name,age,salary\" before passing to the function save_emps()\n",
    "# TODO 3: create another function read_emps() which reads employees from the file emps.txt and returns dictionary\n",
    "# TODO 4: call the read_emps() in the beginning of main() function and \n",
    "#         store the emps dictionary returned by the read_emps() in emps list\n"
   ]
  },
  {
   "cell_type": "code",
   "execution_count": null,
   "metadata": {},
   "outputs": [],
   "source": [
    "# Exercise 6\n",
    "# give the demo of reconfigure and newlines functions using an example for each\n"
   ]
  }
 ],
 "metadata": {
  "kernelspec": {
   "display_name": "Python 3",
   "language": "python",
   "name": "python3"
  },
  "language_info": {
   "codemirror_mode": {
    "name": "ipython",
    "version": 3
   },
   "file_extension": ".py",
   "mimetype": "text/x-python",
   "name": "python",
   "nbconvert_exporter": "python",
   "pygments_lexer": "ipython3",
   "version": "3.7.4"
  }
 },
 "nbformat": 4,
 "nbformat_minor": 2
}
